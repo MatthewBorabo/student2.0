{
 "cells": [
  {
   "cell_type": "markdown",
   "metadata": {},
   "source": [
    "---\n",
    "comments: True\n",
    "layout: post\n",
    "title: Web Programming & Sprint2 Reflection\n",
    "description: My self-review of the assessment, \"Web Programming Basics\"! It was also the last assignment of Sprint2!\n",
    "type: collab\n",
    "courses: {'csse': {'week': 6}}\n",
    "---"
   ]
  },
  {
   "cell_type": "markdown",
   "metadata": {},
   "source": [
    "# Self Review\n",
    "\n",
    "- HTML: I was able to set up the code and it matches the wireframe, so I believe I got the 0.5 points.\n",
    "- Data Types: I was able to successfully enter my object which represents the components of my life. I was also able to add math to the code as well and perform mathematical operations. I most likely got the 0.5 points.\n",
    "- DOM: I was able to make the code. However, I wasn't able to execute the code to my liking so I don't believe I got the 0.5 points here.\n",
    "- JavaScript: This one was mostly simple as it is comparing 2 variables with each other. I believe I got the 0.5 points.\n",
    "- JS Debugging: This one was pretty fun. I was able to fix the segments and added what I changed. I did not do the challenge however. I believe I got the 0.5 points here.\n",
    "\n",
    "<br>\n",
    "\n",
    "- Overall, I had to work on most of the project in just one day while being sick at the same time. It was pretty hard and I was able to push through after around 3-4 hours. :D"
   ]
  }
 ],
 "metadata": {
  "language_info": {
   "name": "python"
  },
  "orig_nbformat": 4
 },
 "nbformat": 4,
 "nbformat_minor": 2
}
