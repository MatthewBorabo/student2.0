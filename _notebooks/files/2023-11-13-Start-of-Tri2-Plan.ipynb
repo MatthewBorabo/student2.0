{
 "cells": [
  {
   "cell_type": "markdown",
   "metadata": {},
   "source": [
    "---\n",
    "layout: post\n",
    "title: Plan to a New Trimester!\n",
    "description: Adjust to the new trimester, learn how to modify a mario game, make a new student respository, and hang out with other CSSE students that were not in my original class. \n",
    "courses: { csse: {week: 13} }\n",
    "type: ccc\n",
    "---"
   ]
  },
  {
   "cell_type": "markdown",
   "metadata": {},
   "source": [
    "## START OF A NEW TRIMESTER\n",
    "# Hello and welcome to my new website, \"Student2.0\"!\n",
    "\n",
    "- In this blog, I will learn about how to modify games such as Mario, further learn how to work in groups, research, teach others, and lastly make a CPT Project!\n",
    "- My first group will be with my Trimester 1 partner, Ian Manangan and Trystan Schmits (a code wizard from T1 CSSE P4)."
   ]
  },
  {
   "cell_type": "markdown",
   "metadata": {},
   "source": [
    "# Plan for Week 13 (Week 1 in Trimester 2)\n",
    "- I will first make new two repositories:\n",
    "Group repository (Trystan will make this one)\n",
    "Personal repository (this one!)\n",
    "- Secondly, I will some modifications to the overall website (i.e. theme, blog, etc.)\n",
    "- Listen to the tech talks that Mr. Mortensen (my new teacher).\n",
    "\n",
    "Overall, I am going to adjust to this new format as this is the start of a new trimester!"
   ]
  }
 ],
 "metadata": {
  "language_info": {
   "name": "python"
  },
  "orig_nbformat": 4
 },
 "nbformat": 4,
 "nbformat_minor": 2
}
