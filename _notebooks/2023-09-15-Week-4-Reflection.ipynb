{
 "cells": [
  {
   "cell_type": "markdown",
   "metadata": {},
   "source": [
    "---\n",
    "comments: true\n",
    "layout: post\n",
    "title: Week 4 Reflection\n",
    "description: Reflection of the Calculator Work & Agile Methodology\n",
    "type: collab\n",
    "courses: { csse: {week: 4} }\n",
    "---"
   ]
  },
  {
   "cell_type": "markdown",
   "metadata": {},
   "source": [
    "<h1> This is my first reflection for Sprint2! </h1>\n",
    "\n",
    "## Things that I learned\n",
    "\n",
    "- I learned how to use headers (like the one above)\n",
    "- I worked on the GPA calculator, being able to add a reset button and restricting numbers to only integers.\n",
    "- I was able to implement my team's \"Basic\" Calculator with 100% functionality."
   ]
  }
 ],
 "metadata": {
  "language_info": {
   "name": "python"
  },
  "orig_nbformat": 4
 },
 "nbformat": 4,
 "nbformat_minor": 2
}
