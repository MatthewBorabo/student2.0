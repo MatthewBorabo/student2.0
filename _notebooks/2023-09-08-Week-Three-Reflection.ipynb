{
 "cells": [
  {
   "cell_type": "markdown",
   "metadata": {},
   "source": [
    "---\n",
    "comments: true\n",
    "layout: post\n",
    "title: Week 3 Reflection\n",
    "description: No Description Yet\n",
    "type: collab\n",
    "courses: { csse: {week: 3} }\n",
    "---"
   ]
  }
 ],
 "metadata": {
  "language_info": {
   "name": "python"
  },
  "orig_nbformat": 4
 },
 "nbformat": 4,
 "nbformat_minor": 2
}
