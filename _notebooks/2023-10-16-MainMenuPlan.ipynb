{
 "cells": [
  {
   "cell_type": "markdown",
   "metadata": {},
   "source": [
    "---\n",
    "comments: True\n",
    "layout: post\n",
    "title: Matthew's Plan for CodeClimbers\n",
    "description: Primarily working on the Main Menu as well as doing the integration assignment with Ian.\n",
    "type: collab\n",
    "courses: {'csse': {'week': 9}}\n",
    "---"
   ]
  },
  {
   "cell_type": "markdown",
   "metadata": {},
   "source": [
    "# Rubric/Plan\n",
    "\n",
    "- Collaboration. Each Team to share Issues/Scrum Board \n",
    "\n",
    "- Share plans that are guiding integration and OOP work, pick issue that represents progress\n",
    "\n",
    "I am planning to work on the functionality of the main menu and the starting menu in general. In order to be functional, when I press play, it will show the play menu which shows more options/buttons. When I press credits, it will show who worked on the game and some descriptions. If possible, I can code an on/off sound button and \"full screen\". I may work on other stuff such as lore. Despite it not being a crucial part of the game, I need to find a way to become attached to the game so I can increase my focus and output. I will only do this if I really can't focus on coding. I may add more to this later.\n",
    "\n",
    "- Share at least 1 instance where two people have integrated something together, show how it was separated last week to integrated this week.\n",
    "\n",
    "For context, I'm going to be working on the main menu and Ian is going to be working on making the animation walk. We can check each other's progress to ensure that both of us are not falling behind. This is mostly for accountability. If one of us needs help, we can check each other's code and work together on the main menu or animation. I can also help Gavin and John if they require my help with anything.\n",
    "\n",
    "- Each individual show code commit that required thought, pick your favorite\n",
    "\n",
    "For this review, I will mostly talk about my coding for the main menu or anything future tasks that I could be given. I will probably try to integrate the \"class\" tech talk in order to simplify my code.\n",
    "\n",
    "- Code.  Each team to show demo and code\n",
    "\n",
    "- Share Game running\n",
    "\n",
    "- Share GitHub Code, OOP accomplishments\n",
    "\n",
    "# Reflection\n",
    "\n",
    "I will work on this after the Integration Live Review. For now, I hope that my coding adventure will be less rock, especially as I deal with my other classes, and I hope to not let my team down."
   ]
  }
 ],
 "metadata": {
  "language_info": {
   "name": "python"
  },
  "orig_nbformat": 4
 },
 "nbformat": 4,
 "nbformat_minor": 2
}
