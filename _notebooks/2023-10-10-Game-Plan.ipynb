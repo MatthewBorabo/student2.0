{
 "cells": [
  {
   "cell_type": "markdown",
   "metadata": {},
   "source": [
    "---\n",
    "comments: True\n",
    "layout: post\n",
    "title: Game Plan\n",
    "description: Working on the game, \"CodeClimbers\" with Gavin, John, Ian, and I!\n",
    "type: collab\n",
    "courses: {'csse': {'week': 8}}\n",
    "---"
   ]
  },
  {
   "cell_type": "markdown",
   "metadata": {},
   "source": [
    "# Game Plan\n",
    "- I have many personal goals and team goals (alongside the schedule of the week)"
   ]
  },
  {
   "cell_type": "markdown",
   "metadata": {},
   "source": [
    "# Goals\n",
    "- Basic Goal: Learn how to git pull from Gavin Copley, and how to push my work into the sharedGame repository.\n",
    "- Primary Plan (of the plan): Figure out what tasks that I need to do. So far, I only got the background of CodeClimbers. I could do much more but I am not sure what to work on. \n",
    "- Goal for the end of the week: Make a successful feature for CodeClimbers and meet all of the requirements."
   ]
  },
  {
   "cell_type": "markdown",
   "metadata": {},
   "source": [
    "# Requirements:\n",
    "\n",
    "- Collaboration.  Each Team to share Issues/Scrum Board that describe roles. \n",
    "\n",
    "- Each member should close an Issue and have summary of completed work.\n",
    "- Expected is one or more Commits that correspond to Issue\n",
    "- Share plans that are guiding work\n",
    "- Code.  Show code and running code as follows.\n",
    "\n",
    "- Share link(s) or experiment(s) in a file independent of Team Code.\n",
    "- Share main Game file\n",
    "- Share running Code"
   ]
  },
  {
   "cell_type": "markdown",
   "metadata": {},
   "source": [
    "# Schedule:\n",
    "\n",
    "- Monday: Alien World Progress (AWP), Finish Ideation Live Reviews\n",
    "- Tuesday: Work Day\n",
    "- Wednesday: Tech Talk, Multiple Files, Classes and Inheritance\n",
    "- Thursday: Work Day\n",
    "- Friday: Feature Review"
   ]
  }
 ],
 "metadata": {
  "language_info": {
   "name": "python"
  },
  "orig_nbformat": 4
 },
 "nbformat": 4,
 "nbformat_minor": 2
}
