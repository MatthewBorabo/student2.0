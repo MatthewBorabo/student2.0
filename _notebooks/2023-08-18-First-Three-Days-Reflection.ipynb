{
 "cells": [
  {
   "cell_type": "markdown",
   "metadata": {},
   "source": [
    "---\n",
    "comments: true\n",
    "layout: post\n",
    "title: First Three Days Reflection\n",
    "description: Review Tools from Week 0.\n",
    "type: collab\n",
    "courses: { csse: {week: 0} }\n",
    "---"
   ]
  },
  {
   "cell_type": "raw",
   "metadata": {},
   "source": [
    "This is my first tangible for Computer Science and Software Engineering! In this tab of the timebox, I will plan and reflect on my work. For this week, I used some terminal commands:\n",
    "\n",
    "- The command “ls” makes a list\n",
    "- The command “cd” changes the directory\n",
    "- The command “make” makes a local server to test coding changes in real-time (without having to publish the website).\n",
    "\n",
    "I was also introduced to VSCode and Jupyter Notebooks.\n",
    "\n",
    "- VSCode is a lightweight coding software that can produce powerful, real-time results of my coding and can even offer feedback in syntax and errors.\n",
    "- Jupyter Notebooks is what makes this page possible! I can write raw text for the website and also test out code without using the make command (or commit to GitHub).\n",
    "Since this is the first tangible, there is not much information at the moment. However, as I progress towards weeks and Sprints. I will offer more intellect on my coding process!"
   ]
  },
  {
   "cell_type": "code",
   "execution_count": null,
   "metadata": {
    "vscode": {
     "languageId": "html"
    }
   },
   "outputs": [],
   "source": []
  }
 ],
 "metadata": {
  "language_info": {
   "name": "python"
  },
  "orig_nbformat": 4
 },
 "nbformat": 4,
 "nbformat_minor": 2
}
