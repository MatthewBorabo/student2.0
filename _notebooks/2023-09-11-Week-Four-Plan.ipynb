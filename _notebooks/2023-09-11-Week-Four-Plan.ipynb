{
 "cells": [
  {
   "cell_type": "markdown",
   "metadata": {},
   "source": [
    "---\n",
    "toc: true\n",
    "comments: true\n",
    "layout: post\n",
    "title: Week 4 Plan\n",
    "description: My plan for the starting of Sprint2.\n",
    "type: collab\n",
    "courses: { csse: {week: 4} }\n",
    "---"
   ]
  },
  {
   "cell_type": "markdown",
   "metadata": {},
   "source": [
    "## Advice / Takeaway from Sprint1:\n",
    "- Mess around with Linux Shell and Bash\n",
    "- Fix Tangibles and Plans to Weeks 0-3\n",
    "- But that's all in the past now, and it's time to work on Sprint2 (Weeks 4-7).\n",
    "- Update User Record on Teacher Website\n",
    "- Work on JS Calculator\n",
    "\n",
    "## Read Pages on Teacher Website:\n",
    "\n",
    "From Mr. Mortensen:\n",
    "\n",
    "- Monday: JS Input and Calculator Review Assignment.  Live Reviews\n",
    "- Tuesday: Work day.  Live Reviews\n",
    "- Wednesday: Agile Methodology, teams of 4\n",
    "- Thursday:  JS Output, debugging.\n",
    "- Friday: Work day, Start Calculator Reviews on Monday\n",
    "\n",
    "I feel way more relieved knowing that I'm more caught up. I am aiming to be one of the first reviews in the near future.\n",
    "\n",
    "I may add more to this plan or reflection."
   ]
  }
 ],
 "metadata": {
  "language_info": {
   "name": "python"
  },
  "orig_nbformat": 4
 },
 "nbformat": 4,
 "nbformat_minor": 2
}
