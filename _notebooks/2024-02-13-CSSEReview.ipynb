{
 "cells": [
  {
   "cell_type": "markdown",
   "metadata": {},
   "source": [
    "---\n",
    "layout: post\n",
    "title: CSSE Game Levels Reflection\n",
    "description: What I accomplished during my time in Multiplayer\n",
    "type: ccc\n",
    "courses: { csse: {week: 20} }\n",
    "---"
   ]
  },
  {
   "cell_type": "markdown",
   "metadata": {},
   "source": [
    "## Socket.io\n",
    "- For reference, this is the Multiplayer.js code\n",
    "\n",
    "```\n",
    "export class Socket{\n",
    "/**\n",
    " * @property {boolean} shouldBeSynced - should we be connected to the server\n",
    " * @property {Object} socket - used by Multiplayer, creates socket for the client\n",
    " * @property {string} socketID - id given by the websocket server when a player connects\n",
    " */\n",
    "// Sets up the AWS/Local Server\n",
    "    static shouldBeSynced = true;\n",
    "    static socket = io(\"wss://platformer.nighthawkcodingsociety.com\"); //aws server\n",
    "    //static socket = io(`ws://${window.location.host.split(\":\")[0]}:3000`); //local server\n",
    "    static socketId;\n",
    "    static {\n",
    "        this.socket.on(\"id\",(id)=>{this.socketId = id});\n",
    "    }\n",
    "\n",
    "    constructor(){throw new Error('Socket is a static class and cannot be instantiated.');}\n",
    "\n",
    "    // socket.emit emits a message to the server\n",
    "    static sendData(key,value) {\n",
    "        if (this.shouldBeSynced == false){return \"offline\"};\n",
    "        if (typeof key != \"string\"){return \"key is not a string\"};\n",
    "        this.socket.emit(key,value);\n",
    "    }\n",
    "    // shouldBeSynced is a function to sync the players and the server\n",
    "    static createListener(key, func){\n",
    "        if (this.shouldBeSynced == false){return \"offline\"};\n",
    "        if (typeof key != \"string\"){return \"key is not a string\"};\n",
    "        this.socket.on(key,func);\n",
    "    }\n",
    "    // remove the socket / multiplayer mode\n",
    "    static removeListener(key){\n",
    "        if (typeof key == \"string\"){return \"key is not a string\"};\n",
    "        this.socket.off(key)\n",
    "    }\n",
    "\n",
    "    static removeAllListeners(){\n",
    "        this.socket.removeAllListeners();\n",
    "    }\n",
    "\n",
    "    static changeStatus(){\n",
    "        this.shouldBeSynced = !this.shouldBeSynced;\n",
    "        if(this.shouldBeSynced){\n",
    "            this.removeAllListeners();\n",
    "\n",
    "            GameControl.transitionToLevel(GameEnv.levels[GameEnv.levels.indexOf(GameEnv.currentLevel)]);\n",
    "        } else{\n",
    "            GameControl.transitionToLevel(GameEnv.levels[GameEnv.levels.indexOf(GameEnv.currentLevel)]);\n",
    "        }\n",
    "        return this.shouldBeSynced;\n",
    "    }\n",
    "}\n",
    "export default Socket;\n",
    "```\n",
    "\n",
    "- This creates a class for the Socket. A socket is a software structure within a network node of a computer network that serves as an endpoint for sending and receiving data across the network. \n",
    "- Since I am in the Multiplayer team, Socket is basically the set-up for the multiplayer mode.\n",
    "- Keywords: \n",
    "- shouldBeSynced - should we be connected to the server\n",
    "- @property {Object} socket - used by Multiplayer, creates socket for the client\n",
    "- @property {string} socketID - id given by the websocket server when a player connects"
   ]
  },
  {
   "cell_type": "markdown",
   "metadata": {
    "vscode": {
     "languageId": "plaintext"
    }
   },
   "source": [
    "## Making the Enter Key Button\n",
    "\n",
    "- For reference, here's the code for the enter key button. This is located in the Chat.js file.\n",
    "\n",
    "```\n",
    "var message = input.value;\n",
    "                message = this.parseMessage(message);\n",
    "                addMessage(message,\"you\");\n",
    "                this.sendMessage(message);\n",
    "            }\n",
    "        button.addEventListener(\"click\",onMessage.bind(this));\n",
    "\n",
    "        function KeyCheck(e){\n",
    "            console.log(this)\n",
    "            if(e.key == \"Enter\"){\n",
    "                onMessage.bind(this)()\n",
    "            }\n",
    "        }\n",
    "        window.addEventListener(\"keypress\",KeyCheck.bind(this));\n",
    "```\n",
    "\n",
    "- For the chat function, the original way to send a message is to click the button, \"Send\".\n",
    "- This code makes it so that pressing the \"Enter\" key also sends the message along with the 'click'.\n",
    "- This is done by adding a function for the enter keycheck, which is simply \"e\".\n",
    "- When the enter button is pressed for the chat, it is binded with the onMessage function to send the message."
   ]
  },
  {
   "cell_type": "markdown",
   "metadata": {},
   "source": [
    "# Index / RPG (never mind -_-)\n",
    "\n",
    "- This is the mario sprite that shows up in the homepage. Originally, he moves only to the right and cannot go back.\n",
    "- Never mind"
   ]
  },
  {
   "cell_type": "markdown",
   "metadata": {},
   "source": [
    "## Non-Code Contributions: \n",
    "\n",
    "- Made the opening issue\n",
    "- Worked on AWS when necessary (e.g. rebooting the server, fixing multiplayer entirely)\n",
    "- Made pull requests\n",
    "- Communicated with the management team often (Ryan)\n",
    "- Spent a lot of effort in the class (it may not look like it because I wasn't able to talk or explain code, but I tried my best). For example, I once worked with Trystan for 6 hours straight after school to fix the multiplayer code."
   ]
  },
  {
   "cell_type": "markdown",
   "metadata": {},
   "source": [
    "<!-- from https://github.com/utterance/utterances -->\n",
    "<script src=\"https://utteranc.es/client.js\"\n",
    "        repo=\"{{ site.github_username }}/{{ site.github_repo | default: site.baseurl | remove: \"/\" }}\"\n",
    "        issue-term=\"title\"\n",
    "        label=\"blogpost-comment\"\n",
    "        theme=\"github-light\"\n",
    "        crossorigin=\"anonymous\"\n",
    "        async>\n",
    "</script>"
   ]
  }
 ],
 "metadata": {
  "language_info": {
   "name": "python"
  }
 },
 "nbformat": 4,
 "nbformat_minor": 2
}
