{
 "cells": [
  {
   "cell_type": "markdown",
   "metadata": {},
   "source": [
    "---\n",
    "comments: true\n",
    "layout: post\n",
    "title: Week 1 Reflection\n",
    "description: Analyze skills that were taught in Week 1 (more depth on terminal and getting familiar with Github Pages).\n",
    "type: collab\n",
    "courses: { csse: {week: 1} }\n",
    "---"
   ]
  },
  {
   "cell_type": "raw",
   "metadata": {},
   "source": [
    "This is my second review for Computer Science and Software Engineering!\n",
    "Ian and I finished the Tool Check, which consisted of building the homepage and changing the theme. We learned how to insert images onto our student website and learned about more commands (Linux Shell and Bash). Furthermore, we learned how to add text onto our website and configured the timebox.\n",
    "My partner and I struggled a lot on completing the steps for the terminal as we got lost in the middle of the tech talk, especially when we couldn't see what command was sent in the terminal, leading us to be a day behind. We had to play catch-up for Week 0 and 1 due to encountering this multiple times alongside multiple APs."
   ]
  }
 ],
 "metadata": {
  "language_info": {
   "name": "python"
  },
  "orig_nbformat": 4
 },
 "nbformat": 4,
 "nbformat_minor": 2
}
