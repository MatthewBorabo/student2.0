{
 "cells": [
  {
   "cell_type": "markdown",
   "metadata": {},
   "source": [
    "---\n",
    "comments: True\n",
    "layout: post\n",
    "title: Initial Reflection for Game\n",
    "description: First week on actually working on the game!\n",
    "type: collab\n",
    "courses: {'csse': {'week': 8}}\n",
    "---"
   ]
  },
  {
   "cell_type": "markdown",
   "metadata": {},
   "source": [
    "### Plan for Each Person\n",
    "\n",
    "Find good sprites and work on the menu. Make a plot for CodeClimbers.\n",
    "\n",
    "### Acomplishments this week\n",
    "\n",
    "Made a design for the main starting page\n",
    "-> Made an outline the main menu and the play page.\n",
    "Found a Robot sprite for the game"
   ]
  }
 ],
 "metadata": {
  "language_info": {
   "name": "python"
  },
  "orig_nbformat": 4
 },
 "nbformat": 4,
 "nbformat_minor": 2
}
