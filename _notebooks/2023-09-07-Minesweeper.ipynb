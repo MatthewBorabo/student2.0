{
 "cells": [
  {
   "cell_type": "markdown",
   "metadata": {},
   "source": [
    "---\n",
    "toc: false\n",
    "comments: false\n",
    "layout: post\n",
    "title: Minesweeper\n",
    "description: Will you get a mine? Hopefully not, or else say goodbye!\n",
    "type: Not Used\n",
    "courses: { csse: {wek: 3} }\n",
    "---"
   ]
  },
  {
   "cell_type": "code",
   "execution_count": 1,
   "metadata": {},
   "outputs": [
    {
     "ename": "TypeError",
     "evalue": "sequence item 0: expected str instance, bool found",
     "output_type": "error",
     "traceback": [
      "\u001b[0;31m---------------------------------------------------------------------------\u001b[0m",
      "\u001b[0;31mTypeError\u001b[0m                                 Traceback (most recent call last)",
      "\u001b[0;32m/tmp/ipykernel_3713/4190740246.py\u001b[0m in \u001b[0;36m<module>\u001b[0;34m\u001b[0m\n\u001b[1;32m     70\u001b[0m     \u001b[0mcols\u001b[0m \u001b[0;34m=\u001b[0m \u001b[0;36m5\u001b[0m\u001b[0;34m\u001b[0m\u001b[0;34m\u001b[0m\u001b[0m\n\u001b[1;32m     71\u001b[0m     \u001b[0mmines\u001b[0m \u001b[0;34m=\u001b[0m \u001b[0;36m5\u001b[0m\u001b[0;34m\u001b[0m\u001b[0;34m\u001b[0m\u001b[0m\n\u001b[0;32m---> 72\u001b[0;31m     \u001b[0mplay_game\u001b[0m\u001b[0;34m(\u001b[0m\u001b[0mrows\u001b[0m\u001b[0;34m,\u001b[0m \u001b[0mcols\u001b[0m\u001b[0;34m,\u001b[0m \u001b[0mmines\u001b[0m\u001b[0;34m)\u001b[0m\u001b[0;34m\u001b[0m\u001b[0;34m\u001b[0m\u001b[0m\n\u001b[0m",
      "\u001b[0;32m/tmp/ipykernel_3713/4190740246.py\u001b[0m in \u001b[0;36mplay_game\u001b[0;34m(rows, cols, mines)\u001b[0m\n\u001b[1;32m     48\u001b[0m \u001b[0;34m\u001b[0m\u001b[0m\n\u001b[1;32m     49\u001b[0m     \u001b[0;32mwhile\u001b[0m \u001b[0;32mnot\u001b[0m \u001b[0mgame_over\u001b[0m\u001b[0;34m:\u001b[0m\u001b[0;34m\u001b[0m\u001b[0;34m\u001b[0m\u001b[0m\n\u001b[0;32m---> 50\u001b[0;31m         \u001b[0mprint_board\u001b[0m\u001b[0;34m(\u001b[0m\u001b[0mrevealed\u001b[0m\u001b[0;34m)\u001b[0m\u001b[0;34m\u001b[0m\u001b[0;34m\u001b[0m\u001b[0m\n\u001b[0m\u001b[1;32m     51\u001b[0m \u001b[0;34m\u001b[0m\u001b[0m\n\u001b[1;32m     52\u001b[0m         \u001b[0mrow\u001b[0m \u001b[0;34m=\u001b[0m \u001b[0mint\u001b[0m\u001b[0;34m(\u001b[0m\u001b[0minput\u001b[0m\u001b[0;34m(\u001b[0m\u001b[0;34m\"Enter row: \"\u001b[0m\u001b[0;34m)\u001b[0m\u001b[0;34m)\u001b[0m\u001b[0;34m\u001b[0m\u001b[0;34m\u001b[0m\u001b[0m\n",
      "\u001b[0;32m/tmp/ipykernel_3713/4190740246.py\u001b[0m in \u001b[0;36mprint_board\u001b[0;34m(board)\u001b[0m\n\u001b[1;32m     16\u001b[0m \u001b[0;32mdef\u001b[0m \u001b[0mprint_board\u001b[0m\u001b[0;34m(\u001b[0m\u001b[0mboard\u001b[0m\u001b[0;34m)\u001b[0m\u001b[0;34m:\u001b[0m\u001b[0;34m\u001b[0m\u001b[0;34m\u001b[0m\u001b[0m\n\u001b[1;32m     17\u001b[0m     \u001b[0;32mfor\u001b[0m \u001b[0mrow\u001b[0m \u001b[0;32min\u001b[0m \u001b[0mboard\u001b[0m\u001b[0;34m:\u001b[0m\u001b[0;34m\u001b[0m\u001b[0;34m\u001b[0m\u001b[0m\n\u001b[0;32m---> 18\u001b[0;31m         \u001b[0mprint\u001b[0m\u001b[0;34m(\u001b[0m\u001b[0;34m' '\u001b[0m\u001b[0;34m.\u001b[0m\u001b[0mjoin\u001b[0m\u001b[0;34m(\u001b[0m\u001b[0mrow\u001b[0m\u001b[0;34m)\u001b[0m\u001b[0;34m)\u001b[0m\u001b[0;34m\u001b[0m\u001b[0;34m\u001b[0m\u001b[0m\n\u001b[0m\u001b[1;32m     19\u001b[0m \u001b[0;34m\u001b[0m\u001b[0m\n\u001b[1;32m     20\u001b[0m \u001b[0;32mdef\u001b[0m \u001b[0mcount_mines_around_cell\u001b[0m\u001b[0;34m(\u001b[0m\u001b[0mboard\u001b[0m\u001b[0;34m,\u001b[0m \u001b[0mrow\u001b[0m\u001b[0;34m,\u001b[0m \u001b[0mcol\u001b[0m\u001b[0;34m)\u001b[0m\u001b[0;34m:\u001b[0m\u001b[0;34m\u001b[0m\u001b[0;34m\u001b[0m\u001b[0m\n",
      "\u001b[0;31mTypeError\u001b[0m: sequence item 0: expected str instance, bool found"
     ]
    }
   ],
   "source": [
    "import random\n",
    "\n",
    "def initialize_board(rows, cols, mines):\n",
    "    board = [[' ' for _ in range(cols)] for _ in range(rows)]\n",
    "\n",
    "    # Place mines randomly on the board\n",
    "    for _ in range(mines):\n",
    "        while True:\n",
    "            row, col = random.randint(0, rows - 1), random.randint(0, cols - 1)\n",
    "            if board[row][col] != 'X':\n",
    "                board[row][col] = 'X'\n",
    "                break\n",
    "\n",
    "    return board\n",
    "\n",
    "def print_board(board):\n",
    "    for row in board:\n",
    "        print(' '.join(row))\n",
    "\n",
    "def count_mines_around_cell(board, row, col):\n",
    "    mine_count = 0\n",
    "    directions = [(1, 0), (-1, 0), (0, 1), (0, -1), (1, 1), (-1, -1), (1, -1), (-1, 1)]\n",
    "\n",
    "    for dr, dc in directions:\n",
    "        r, c = row + dr, col + dc\n",
    "        if 0 <= r < len(board) and 0 <= c < len(board[0]) and board[r][c] == 'X':\n",
    "            mine_count += 1\n",
    "\n",
    "    return mine_count\n",
    "\n",
    "def reveal_cell(board, revealed, row, col):\n",
    "    if revealed[row][col]:\n",
    "        return\n",
    "\n",
    "    revealed[row][col] = True\n",
    "\n",
    "    if board[row][col] == ' ':\n",
    "        directions = [(1, 0), (-1, 0), (0, 1), (0, -1)]\n",
    "        for dr, dc in directions:\n",
    "            r, c = row + dr, col + dc\n",
    "            if 0 <= r < len(board) and 0 <= c < len(board[0]):\n",
    "                reveal_cell(board, revealed, r, c)\n",
    "\n",
    "def play_game(rows, cols, mines):\n",
    "    board = initialize_board(rows, cols, mines)\n",
    "    revealed = [[False for _ in range(cols)] for _ in range(rows)]\n",
    "    game_over = False\n",
    "\n",
    "    while not game_over:\n",
    "        print_board(revealed)\n",
    "\n",
    "        row = int(input(\"Enter row: \"))\n",
    "        col = int(input(\"Enter column: \"))\n",
    "\n",
    "        if board[row][col] == 'X':\n",
    "            print(\"Game Over! You hit a mine.\")\n",
    "            game_over = True\n",
    "        else:\n",
    "            num_mines = count_mines_around_cell(board, row, col)\n",
    "            revealed[row][col] = True\n",
    "            if num_mines == 0:\n",
    "                reveal_cell(board, revealed, row, col)\n",
    "\n",
    "        if all(revealed[i][j] or board[i][j] == 'X' for i in range(rows) for j in range(cols)):\n",
    "            print(\"Congratulations! You won!\")\n",
    "            game_over = True\n",
    "\n",
    "if __name__ == \"__main__\":\n",
    "    rows = 5\n",
    "    cols = 5\n",
    "    mines = 5\n",
    "    play_game(rows, cols, mines)"
   ]
  }
 ],
 "metadata": {
  "kernelspec": {
   "display_name": "Python 3",
   "language": "python",
   "name": "python3"
  },
  "language_info": {
   "codemirror_mode": {
    "name": "ipython",
    "version": 3
   },
   "file_extension": ".py",
   "mimetype": "text/x-python",
   "name": "python",
   "nbconvert_exporter": "python",
   "pygments_lexer": "ipython3",
   "version": "3.10.12"
  },
  "orig_nbformat": 4
 },
 "nbformat": 4,
 "nbformat_minor": 2
}
